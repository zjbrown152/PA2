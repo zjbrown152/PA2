{
 "cells": [
  {
   "cell_type": "markdown",
   "id": "604af1aa",
   "metadata": {},
   "source": [
    "# Programming Assignment 2\n",
    "<p>Author: Zane Brown<br> Version:1<br> CS-150-01<p>"
   ]
  },
  {
   "cell_type": "code",
   "execution_count": 3,
   "id": "5029ea8e",
   "metadata": {},
   "outputs": [
    {
     "name": "stdout",
     "output_type": "stream",
     "text": [
      "0\n",
      "1\n",
      "2\n",
      "3\n",
      "4\n",
      "5\n",
      "6  *\n",
      "7\n",
      "8\n",
      "9  *\n",
      "10\n",
      "11\n",
      "12  *\n",
      "13\n",
      "14\n",
      "15  *\n",
      "16\n",
      "17\n",
      "18  *\n",
      "19\n",
      "20\n",
      "21  *\n",
      "22\n",
      "23\n",
      "24  *\n",
      "25\n",
      "26\n",
      "27  *\n",
      "28\n",
      "29\n",
      "30  *\n",
      "31\n",
      "32\n",
      "33  *\n",
      "34\n",
      "35\n",
      "36  *\n",
      "37\n",
      "38\n",
      "39  *\n",
      "40\n",
      "41\n",
      "42  *\n",
      "43\n",
      "44\n",
      "45  *\n",
      "46\n",
      "47\n",
      "48  *\n",
      "49\n",
      "50\n",
      "51  *\n",
      "52\n",
      "53\n",
      "54  *\n",
      "55\n",
      "56\n",
      "57  *\n",
      "58\n",
      "59\n",
      "60  *\n",
      "61\n",
      "62\n",
      "63  *\n",
      "64\n",
      "65\n",
      "66  *\n",
      "67\n",
      "68\n",
      "69  *\n",
      "70\n",
      "71\n",
      "72  *\n",
      "73\n",
      "74\n",
      "75  *\n",
      "76\n",
      "77\n",
      "78  *\n",
      "79\n",
      "80\n",
      "81  *\n",
      "82\n",
      "83\n",
      "84  *\n",
      "85\n",
      "86\n",
      "87  *\n",
      "88\n",
      "89\n",
      "90  *\n",
      "91\n",
      "92\n",
      "93  *\n",
      "94\n",
      "95\n",
      "96  *\n",
      "97\n",
      "98\n",
      "99  *\n",
      "100\n"
     ]
    }
   ],
   "source": [
    "for x in range(0,101):\n",
    "    if x>3 and x%3==0:\n",
    "        print(x,\" *\")\n",
    "    else:\n",
    "        print(x)"
   ]
  },
  {
   "cell_type": "code",
   "execution_count": 55,
   "id": "56d0ffe1",
   "metadata": {},
   "outputs": [
    {
     "name": "stdout",
     "output_type": "stream",
     "text": [
      "What is the subject's age? 9\n",
      "Minor\n",
      "What is the subject's age? 69\n",
      "Senior Citizen\n",
      "What is the subject's age? 56\n",
      "Adult\n",
      "What is the subject's age? 0\n"
     ]
    }
   ],
   "source": [
    "age=2\n",
    "while age!=0:\n",
    "    age=int(input(\"What is the subject's age? \"))\n",
    "    if 0<age<18:\n",
    "        print(\"Minor\")  \n",
    "    elif 18<=age<=64:\n",
    "        print(\"Adult\")\n",
    "    elif age==0:\n",
    "        break\n",
    "    else:\n",
    "        print(\"Senior Citizen\")\n"
   ]
  },
  {
   "cell_type": "code",
   "execution_count": 40,
   "id": "f0753cd8",
   "metadata": {},
   "outputs": [
    {
     "name": "stdout",
     "output_type": "stream",
     "text": [
      "65  : Senior Citizen\n",
      "78  : Senior Citizen\n",
      "34  : Adult\n",
      "56  : Adult\n",
      "12  : Minor\n",
      "9  : Minor\n",
      "43  : Adult\n",
      "67  : Senior Citizen\n"
     ]
    }
   ],
   "source": [
    "for x in [65, 78, 34, 56, 12, 9, 43, 67]:\n",
    "    if x<18:\n",
    "        print(x, \" : Minor\")\n",
    "    elif 18<=x<=64:\n",
    "        print(x, \" : Adult\")\n",
    "    else:\n",
    "        print(x, \" : Senior Citizen\")\n",
    "        "
   ]
  },
  {
   "cell_type": "code",
   "execution_count": null,
   "id": "1fcd04a9",
   "metadata": {},
   "outputs": [],
   "source": []
  }
 ],
 "metadata": {
  "kernelspec": {
   "display_name": "Python 3",
   "language": "python",
   "name": "python3"
  }
 },
 "nbformat": 4,
 "nbformat_minor": 5
}
